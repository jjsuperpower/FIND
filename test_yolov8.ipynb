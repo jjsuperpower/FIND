{
 "cells": [
  {
   "cell_type": "code",
   "execution_count": 33,
   "metadata": {},
   "outputs": [],
   "source": [
    "import torch\n",
    "import torchvision\n",
    "import torchvision.models as models\n",
    "from torchvision import transforms\n",
    "from torchvision.models.resnet import ResNet50_Weights\n",
    "import lightning.pytorch as pl\n",
    "from ultralytics import YOLO\n",
    "\n",
    "from mymodels import Model_Wrapper, Preprocess\n",
    "from myutils import View, sample_imgs_list, compare_ds"
   ]
  },
  {
   "cell_type": "code",
   "execution_count": 35,
   "metadata": {},
   "outputs": [],
   "source": [
    "# configs to speed up training\n",
    "torch.set_float32_matmul_precision('medium')\n",
    "torch.backends.cuda.matmul.allow_tf32 = True\n",
    "torch.backends.cudnn.allow_tf32 = True"
   ]
  },
  {
   "cell_type": "code",
   "execution_count": 36,
   "metadata": {},
   "outputs": [],
   "source": [
    "model = YOLO('yolov8s.pt', )  # get pretrained model\n",
    "model = Model_Wrapper(model, type='yolo')  # wrap model to use with lightning\n",
    "trainer = pl.Trainer(accelerator='auto', limit_test_batches=3)"
   ]
  },
  {
   "cell_type": "code",
   "execution_count": 37,
   "metadata": {},
   "outputs": [],
   "source": [
    "PATH_TO_COCO = '/f_storage/datasets/coco/2017/val2017'\n",
    "PATH_TO_IMAGENET = '../../datasets/imagenet/2012/'\n",
    "NUM_IMG_EVAL = 10000\n",
    "prep = Preprocess(PATH_TO_COCO, (640, 640), dataset_type='coco', shuffle=False, batch_size=8)\n",
    "preview_img_slice = slice(00000, 50000, 10000)\n",
    "%matplotlib inline"
   ]
  },
  {
   "cell_type": "code",
   "execution_count": 41,
   "metadata": {},
   "outputs": [],
   "source": [
    "prep.reset_trans()\n",
    "imgnet = prep.get_loader()\n",
    "img = sample_imgs_list(imgnet, slice(31000,32000))\n"
   ]
  },
  {
   "cell_type": "code",
   "execution_count": null,
   "metadata": {},
   "outputs": [],
   "source": [
    "prep.reset_trans()\n",
    "imgnet_orig = prep.get_loader()\n",
    "sample_orig = sample_imgs_list(imgnet_orig, preview_img_slice)# test model on original images\n",
    "result_orig = trainer.test(model, imgnet_orig)"
   ]
  }
 ],
 "metadata": {
  "kernelspec": {
   "display_name": "Python 3",
   "language": "python",
   "name": "python3"
  },
  "language_info": {
   "codemirror_mode": {
    "name": "ipython",
    "version": 3
   },
   "file_extension": ".py",
   "mimetype": "text/x-python",
   "name": "python",
   "nbconvert_exporter": "python",
   "pygments_lexer": "ipython3",
   "version": "3.10.6"
  },
  "orig_nbformat": 4
 },
 "nbformat": 4,
 "nbformat_minor": 2
}
