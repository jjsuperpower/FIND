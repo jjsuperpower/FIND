{
 "cells": [
  {
   "cell_type": "code",
   "execution_count": null,
   "metadata": {},
   "outputs": [],
   "source": [
    "import torch\n",
    "import lightning.pytorch as pl\n",
    "\n",
    "from mymodels import Model_Wrapper, Preprocess\n",
    "from myutils import View\n",
    "from yolo_wrapper import YOLOv8_COCO_Wrapper\n",
    "from coco_ds import CocoResults\n",
    "\n",
    "import logging\n",
    "logging.disable(logging.INFO)"
   ]
  },
  {
   "cell_type": "code",
   "execution_count": null,
   "metadata": {},
   "outputs": [],
   "source": [
    "# configs to speed up training\n",
    "torch.set_float32_matmul_precision('medium')\n",
    "torch.backends.cuda.matmul.allow_tf32 = True\n",
    "torch.backends.cudnn.allow_tf32 = True"
   ]
  },
  {
   "cell_type": "code",
   "execution_count": null,
   "metadata": {},
   "outputs": [],
   "source": [
    "PATH_TO_COCO = '/f_storage/datasets/coco/2017'\n",
    "NUM_IMG_EVAL = 10000\n",
    "prep = Preprocess(PATH_TO_COCO, (640, 640), dataset_type='coco', shuffle=False, batch_size=64)\n",
    "%matplotlib inline"
   ]
  },
  {
   "cell_type": "code",
   "execution_count": null,
   "metadata": {},
   "outputs": [],
   "source": [
    "prep.reset_trans()\n",
    "coco = prep.get_loader()\n",
    "model = YOLOv8_COCO_Wrapper(CocoResults(coco.dataset), 'yolov8m.pt')\n",
    "model = Model_Wrapper(model, model_type='yolo')\n",
    "# trainer = pl.Trainer(accelerator='auto', limit_test_batches=10)\n",
    "trainer = pl.Trainer(accelerator='auto')"
   ]
  },
  {
   "cell_type": "code",
   "execution_count": null,
   "metadata": {},
   "outputs": [],
   "source": [
    "def compare_ds(model, dataloaders, labels, preview_idxs:list, view_only=False, show_bbox=True, figsize=(12,6), verbose=True, skip_results:list=[0]):\n",
    "    results = {}\n",
    "    samples = []\n",
    "    #display first\n",
    "    for ds in dataloaders:\n",
    "        sample = torch.stack([ds.dataset[i][1] for i in preview_idxs])\n",
    "        \n",
    "        if show_bbox:\n",
    "            samples.append(model.plot(sample))\n",
    "        else:\n",
    "            samples.append(sample)\n",
    "        \n",
    "    View.compare_color(samples, labels, figsize=figsize)\n",
    "\n",
    "    \n",
    "    if not view_only:\n",
    "        for i in range(len(dataloaders)):\n",
    "            if i in skip_results:\n",
    "                continue\n",
    "            \n",
    "            result = trainer.test(model, dataloaders[i], verbose=verbose)\n",
    "            results[labels[i]] = result\n",
    "            \n",
    "            \n",
    "        return results\n",
    "    else:\n",
    "        return None"
   ]
  },
  {
   "cell_type": "markdown",
   "metadata": {},
   "source": [
    "##### Test On Orignal Dataset"
   ]
  },
  {
   "cell_type": "code",
   "execution_count": null,
   "metadata": {},
   "outputs": [],
   "source": [
    "preview_idxs = [2, 53, 300, 607, 3584]\n",
    "samples  = torch.stack([coco.dataset[i][1] for i in preview_idxs])\n",
    "plots = model.plot(samples)\n",
    "View.compare_color(plots, 'Original')\n",
    "# View.histogram(samples)\n",
    "# orig_results = trainer.test(model, coco)"
   ]
  },
  {
   "attachments": {},
   "cell_type": "markdown",
   "metadata": {},
   "source": [
    "##### Test filters on Orignal Dataset"
   ]
  },
  {
   "cell_type": "code",
   "execution_count": null,
   "metadata": {},
   "outputs": [],
   "source": [
    "prep.reset_trans()\n",
    "coco = prep.get_loader()\n",
    "coco_histeq = prep.copy().hist_eq().get_loader()\n",
    "coco_retinex = prep.copy().retinex('SSR', 100).get_loader()\n",
    "coco_results = compare_ds(model, \n",
    "                                 [coco, coco_histeq, coco_retinex],\n",
    "                                 ['Original', 'Original + HistEQ', 'Original + Retinex'], \n",
    "                                 preview_idxs,\n",
    "                                 view_only=False)"
   ]
  },
  {
   "cell_type": "markdown",
   "metadata": {},
   "source": [
    "##### Test on Dark Images"
   ]
  },
  {
   "cell_type": "code",
   "execution_count": null,
   "metadata": {},
   "outputs": [],
   "source": [
    "prep.reset_trans()\n",
    "coco_dark = prep.luminance(1/8).get_loader()\n",
    "coco_dark_histeq = prep.copy().hist_eq().get_loader()\n",
    "coco_dark_retinex = prep.copy().retinex('SSR', 100).get_loader()\n",
    "coco_dark_results = compare_ds(model, \n",
    "                                 [prep.basic_loader(), coco_dark, coco_dark_histeq, coco_dark_retinex],\n",
    "                                 ['Original', 'Dark', 'Dark + HistEQ', 'Dark + Retinex'], \n",
    "                                 preview_idxs,\n",
    "                                 view_only=False)"
   ]
  },
  {
   "cell_type": "markdown",
   "metadata": {},
   "source": [
    "##### Test on Over Exposed Images"
   ]
  },
  {
   "cell_type": "code",
   "execution_count": null,
   "metadata": {},
   "outputs": [],
   "source": [
    "prep.reset_trans()\n",
    "coco_bright = prep.luminance(2).get_loader()\n",
    "coco_bright_histeq = prep.copy().hist_eq().get_loader()\n",
    "coco_bright_retinex = prep.copy().retinex('SSR', 100).get_loader()\n",
    "coco_bright_results = compare_ds(model, \n",
    "                                 [prep.basic_loader(), coco_bright, coco_bright_histeq, coco_bright_retinex],\n",
    "                                 ['Original', 'Bright', 'Bright + HistEQ', 'Bright + Retinex'], \n",
    "                                 preview_idxs)"
   ]
  },
  {
   "cell_type": "markdown",
   "metadata": {},
   "source": [
    "##### Test on hazy images"
   ]
  },
  {
   "cell_type": "code",
   "execution_count": null,
   "metadata": {},
   "outputs": [],
   "source": [
    "prep.reset_trans()\n",
    "coco_mod = prep.fog(10).get_loader()\n",
    "coco_mod_histeq = prep.copy().hist_eq().get_loader()\n",
    "coco_mod_retinex = prep.copy().retinex('SSR', 100).get_loader()\n",
    "coco_mod_results = compare_ds(model, \n",
    "                                 [prep.basic_loader(), coco_mod, coco_mod_histeq, coco_mod_retinex],\n",
    "                                 ['Original', 'Hazy / Foggy', 'Hazy + HistEQ', 'Hazy + Retinex'], \n",
    "                                 preview_idxs,\n",
    "                                 view_only=False)"
   ]
  },
  {
   "cell_type": "markdown",
   "metadata": {},
   "source": [
    "##### Test on Dark Rainy Images"
   ]
  },
  {
   "cell_type": "code",
   "execution_count": null,
   "metadata": {},
   "outputs": [],
   "source": [
    "prep.reset_trans()\n",
    "coco_mod = prep.rain(2, 75).get_loader()\n",
    "coco_mod_histeq = prep.copy().hist_eq().get_loader()\n",
    "coco_mod_retinex = prep.copy().retinex('SSR', 100).get_loader()\n",
    "coco_mod_results = compare_ds(model, \n",
    "                                 [prep.basic_loader(), coco_mod, coco_mod_histeq, coco_mod_retinex],\n",
    "                                 ['Original', 'Dark Rainy', 'Dark Rainy+ HistEQ', 'Dark Rainy + Retinex'], \n",
    "                                 preview_idxs,\n",
    "                                 view_only=False)"
   ]
  },
  {
   "cell_type": "markdown",
   "metadata": {},
   "source": [
    "##### Test Histogram Eq on Low Contrast Images"
   ]
  },
  {
   "cell_type": "code",
   "execution_count": null,
   "metadata": {},
   "outputs": [],
   "source": [
    "# prep.reset_trans()\n",
    "# coco_low_cont = prep.brightness_contrast(0,5).get_loader()\n",
    "# coco_low_cont_histeq = prep.copy().hist_eq().get_loader()\n",
    "# coco_low_cont_retinex = prep.copy().retinex('SSR', 100).get_loader()\n",
    "# coco_low_cont_results = compare_ds(model, \n",
    "#                                  [prep.basic_loader(), coco_low_cont, coco_low_cont_histeq, coco_low_cont_retinex],\n",
    "#                                  ['Original', 'Low Contrast', 'Low Contrast + HistEQ', 'Low Contrast + Retinex'], \n",
    "#                                  preview_idxs)"
   ]
  },
  {
   "cell_type": "markdown",
   "metadata": {},
   "source": [
    "##### Test Remapping Distribution to be low contrast"
   ]
  },
  {
   "cell_type": "code",
   "execution_count": null,
   "metadata": {},
   "outputs": [],
   "source": [
    "# prep.reset_trans()\n",
    "# coco_mod = prep.dist_remap(20/255,20/255).get_loader()\n",
    "# coco_mod_histeq = prep.copy().hist_eq().get_loader()\n",
    "# coco_mod_retinex = prep.copy().retinex('SSR', 100).get_loader()\n",
    "# coco_mod_results = compare_ds(model, \n",
    "#                                  [prep.basic_loader(), coco_mod, coco_mod_histeq, coco_mod_retinex],\n",
    "#                                  ['Original', 'Low Contrast', 'Low Contrast + HistEQ', 'Low Contrast + Retinex'], \n",
    "#                                  preview_idxs,\n",
    "#                                  view_only=False)"
   ]
  }
 ],
 "metadata": {
  "kernelspec": {
   "display_name": "Python 3",
   "language": "python",
   "name": "python3"
  },
  "language_info": {
   "codemirror_mode": {
    "name": "ipython",
    "version": 3
   },
   "file_extension": ".py",
   "mimetype": "text/x-python",
   "name": "python",
   "nbconvert_exporter": "python",
   "pygments_lexer": "ipython3",
   "version": "3.10.6"
  },
  "orig_nbformat": 4
 },
 "nbformat": 4,
 "nbformat_minor": 2
}
