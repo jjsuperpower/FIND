{
 "cells": [
  {
   "cell_type": "code",
   "execution_count": null,
   "metadata": {},
   "outputs": [],
   "source": [
    "import torch\n",
    "import torchvision\n",
    "import torchvision.models as models\n",
    "from torchvision.models.resnet import ResNet50_Weights\n",
    "import lightning.pytorch as pl\n",
    "\n",
    "from mymodels import Model_Wrapper, Preprocess\n",
    "from myutils import View, sample_imgs_list"
   ]
  },
  {
   "cell_type": "code",
   "execution_count": null,
   "metadata": {},
   "outputs": [],
   "source": [
    "# configs to speed up training\n",
    "torch.set_float32_matmul_precision('medium')\n",
    "torch.backends.cuda.matmul.allow_tf32 = True\n",
    "torch.backends.cudnn.allow_tf32 = True"
   ]
  },
  {
   "cell_type": "code",
   "execution_count": null,
   "metadata": {},
   "outputs": [],
   "source": [
    "PATH_TO_IMAGENET = '../../datasets/imagenet/2012/'"
   ]
  },
  {
   "cell_type": "code",
   "execution_count": null,
   "metadata": {},
   "outputs": [],
   "source": [
    "resnet50 = models.resnet50(weights=ResNet50_Weights.DEFAULT)\n",
    "resnet50 = Model_Wrapper(resnet50)\n",
    "# trainer = pl.Trainer(accelerator=\"auto\", limit_test_batches=100)\n",
    "trainer = pl.Trainer(accelerator=\"auto\")"
   ]
  },
  {
   "cell_type": "code",
   "execution_count": null,
   "metadata": {},
   "outputs": [],
   "source": [
    "def compare_ds(model, datasets, labels, view_img_slice, view_only=False, figsize=(12,6), verbose=True, skip_results:list=[0]):\n",
    "    results = {}\n",
    "    samples = []\n",
    "    #display first\n",
    "    for ds in datasets:\n",
    "        samples.append(sample_imgs_list(ds, view_img_slice))\n",
    "    _ = View.compare_color(samples, labels, figsize=figsize)\n",
    "    \n",
    "    if not view_only:\n",
    "        for i in range(len(datasets)):\n",
    "            if i in skip_results:\n",
    "                continue\n",
    "            result = trainer.test(model, datasets[i], verbose=verbose)\n",
    "            results[labels[i]] = result\n",
    "        return results\n",
    "    else:\n",
    "        return None\n",
    "    "
   ]
  },
  {
   "cell_type": "code",
   "execution_count": null,
   "metadata": {},
   "outputs": [],
   "source": [
    "# get transforms\n",
    "prep = Preprocess(PATH_TO_IMAGENET, (224, 224), shuffle=True)\n",
    "preview_img_slice = [1, 7000, 35906, 43001, 35289]"
   ]
  },
  {
   "attachments": {},
   "cell_type": "markdown",
   "metadata": {},
   "source": [
    "##### Test On Orignal Dataset"
   ]
  },
  {
   "cell_type": "code",
   "execution_count": null,
   "metadata": {},
   "outputs": [],
   "source": [
    "prep.reset_trans()\n",
    "imgnet_orig = prep.get_loader()\n",
    "sample_orig = sample_imgs_list(imgnet_orig, preview_img_slice)# test model on original images\n",
    "# result_orig = trainer.test(resnet50, imgnet_orig)\n",
    "View.compare_color([sample_orig], ['original'], figsize=(12,6))"
   ]
  },
  {
   "cell_type": "markdown",
   "metadata": {},
   "source": [
    "##### Test filters on Orignal Dataset"
   ]
  },
  {
   "cell_type": "code",
   "execution_count": null,
   "metadata": {},
   "outputs": [],
   "source": [
    "prep.reset_trans()\n",
    "imgnet = prep.get_loader()\n",
    "imgnet_histeq = prep.copy().hist_eq().get_loader()\n",
    "imgnet_retinex = prep.copy().retinex('SSR', 100).get_loader()\n",
    "imgnet_results = compare_ds(resnet50, \n",
    "                                 [imgnet, imgnet_histeq, imgnet_retinex],\n",
    "                                 ['Original', 'Original + HistEQ', 'Original + Retinex'], \n",
    "                                 preview_img_slice,\n",
    "                                 view_only=False)"
   ]
  },
  {
   "attachments": {},
   "cell_type": "markdown",
   "metadata": {},
   "source": [
    "##### Test on Dark Images"
   ]
  },
  {
   "cell_type": "code",
   "execution_count": null,
   "metadata": {},
   "outputs": [],
   "source": [
    "prep.reset_trans()\n",
    "imgnet_dark = prep.luminance(1/8).get_loader()\n",
    "imgnet_dark_histeq = prep.copy().hist_eq().get_loader()\n",
    "imgnet_dark_retinex = prep.copy().retinex('SSR', 100).get_loader()\n",
    "imgnet_dark_results = compare_ds(resnet50, \n",
    "                                 [prep.basic_loader(), imgnet_dark, imgnet_dark_histeq, imgnet_dark_retinex],\n",
    "                                 ['Original', 'Dark', 'Dark + HistEQ', 'Dark + Retinex'], \n",
    "                                 preview_img_slice,\n",
    "                                 view_only=True)"
   ]
  },
  {
   "attachments": {},
   "cell_type": "markdown",
   "metadata": {},
   "source": [
    "##### Test on Over Exposed Images"
   ]
  },
  {
   "cell_type": "code",
   "execution_count": null,
   "metadata": {},
   "outputs": [],
   "source": [
    "prep.reset_trans()\n",
    "imgnet_bright = prep.luminance(2).get_loader()\n",
    "imgnet_bright_histeq = prep.copy().hist_eq().get_loader()\n",
    "imgnet_bright_retinex = prep.copy().retinex('SSR', 100).get_loader()\n",
    "imgnet_bright_results = compare_ds(resnet50, \n",
    "                                 [prep.basic_loader(), imgnet_bright, imgnet_bright_histeq, imgnet_bright_retinex],\n",
    "                                 ['Original', 'Bright', 'Bright + HistEQ', 'Bright + Retinex'], \n",
    "                                 preview_img_slice)"
   ]
  },
  {
   "attachments": {},
   "cell_type": "markdown",
   "metadata": {},
   "source": [
    "##### Test on hazy images"
   ]
  },
  {
   "cell_type": "code",
   "execution_count": null,
   "metadata": {},
   "outputs": [],
   "source": [
    "prep.reset_trans()\n",
    "imgnet_mod = prep.fog(10).get_loader()\n",
    "imgnet_mod_histeq = prep.copy().hist_eq().get_loader()\n",
    "imgnet_mod_retinex = prep.copy().retinex('SSR', 100).get_loader()\n",
    "imgnet_mod_results = compare_ds(resnet50, \n",
    "                                 [prep.basic_loader(), imgnet_mod, imgnet_mod_histeq, imgnet_mod_retinex],\n",
    "                                 ['Original', 'Hazy / Foggy', 'Hazy + HistEQ', 'Hazy + Retinex'], \n",
    "                                 preview_img_slice,\n",
    "                                 view_only=False)"
   ]
  },
  {
   "attachments": {},
   "cell_type": "markdown",
   "metadata": {},
   "source": [
    "##### Test on Dark Rainy Images"
   ]
  },
  {
   "cell_type": "code",
   "execution_count": null,
   "metadata": {},
   "outputs": [],
   "source": [
    "prep.reset_trans()\n",
    "imgnet_mod = prep.rain(2, 75).get_loader()\n",
    "imgnet_mod_histeq = prep.copy().hist_eq().get_loader()\n",
    "imgnet_mod_retinex = prep.copy().retinex('SSR', 100).get_loader()\n",
    "imgnet_mod_results = compare_ds(resnet50, \n",
    "                                 [prep.basic_loader(), imgnet_mod, imgnet_mod_histeq, imgnet_mod_retinex],\n",
    "                                 ['Original', 'Dark Rainy', 'Dark Rainy+ HistEQ', 'Dark Rainy + Retinex'], \n",
    "                                 preview_img_slice,\n",
    "                                 view_only=False)"
   ]
  },
  {
   "cell_type": "markdown",
   "metadata": {},
   "source": [
    "##### Test Histogram Eq on Low Contrast Images"
   ]
  },
  {
   "cell_type": "code",
   "execution_count": null,
   "metadata": {},
   "outputs": [],
   "source": [
    "# prep.reset_trans()\n",
    "# imgnet_low_cont = prep.brightness_contrast(0,5).get_loader()\n",
    "# imgnet_low_cont_histeq = prep.copy().hist_eq().get_loader()\n",
    "# imgnet_low_cont_retinex = prep.copy().retinex('SSR', 100).get_loader()\n",
    "# imgnet_low_cont_results = compare_ds(resnet50, \n",
    "#                                  [prep.basic_loader(), imgnet_low_cont, imgnet_low_cont_histeq, imgnet_low_cont_retinex],\n",
    "#                                  ['Original', 'Low Contrast', 'Low Contrast + HistEQ', 'Low Contrast + Retinex'], \n",
    "#                                  preview_img_slice)"
   ]
  },
  {
   "cell_type": "markdown",
   "metadata": {},
   "source": [
    "##### Test Remapping Distribution to be low contrast"
   ]
  },
  {
   "cell_type": "code",
   "execution_count": null,
   "metadata": {},
   "outputs": [],
   "source": [
    "# prep.reset_trans()\n",
    "# imgnet_mod = prep.dist_remap(20/255,20/255).get_loader()\n",
    "# imgnet_mod_histeq = prep.copy().hist_eq().get_loader()\n",
    "# imgnet_mod_retinex = prep.copy().retinex('SSR', 100).get_loader()\n",
    "# imgnet_mod_results = compare_ds(resnet50, \n",
    "#                                  [prep.basic_loader(), imgnet_mod, imgnet_mod_histeq, imgnet_mod_retinex],\n",
    "#                                  ['Original', 'Low Contrast', 'Low Contrast + HistEQ', 'Low Contrast + Retinex'], \n",
    "#                                  preview_img_slice,\n",
    "#                                  view_only=False)"
   ]
  }
 ],
 "metadata": {
  "kernelspec": {
   "display_name": "Python 3",
   "language": "python",
   "name": "python3"
  },
  "language_info": {
   "codemirror_mode": {
    "name": "ipython",
    "version": 3
   },
   "file_extension": ".py",
   "mimetype": "text/x-python",
   "name": "python",
   "nbconvert_exporter": "python",
   "pygments_lexer": "ipython3",
   "version": "3.10.6"
  },
  "orig_nbformat": 4
 },
 "nbformat": 4,
 "nbformat_minor": 2
}
