{
 "cells": [
  {
   "cell_type": "code",
   "execution_count": 1,
   "metadata": {},
   "outputs": [],
   "source": [
    "import torch\n",
    "import torchvision\n",
    "import torchvision.models as models\n",
    "from torchvision.models.resnet import ResNet50_Weights\n",
    "import lightning.pytorch as pl\n",
    "import sys\n",
    "import os\n",
    "import cv2\n",
    "\n",
    "from mymodels import Model_Wrapper, Preprocess\n",
    "from myutils import View, sample_imgs_list, compare_ds"
   ]
  },
  {
   "cell_type": "code",
   "execution_count": null,
   "metadata": {},
   "outputs": [],
   "source": [
    "from yolov5.utils.general import non_max_suppression"
   ]
  },
  {
   "cell_type": "code",
   "execution_count": 2,
   "metadata": {},
   "outputs": [],
   "source": [
    "# configs to speed up training\n",
    "torch.set_float32_matmul_precision('medium')\n",
    "torch.backends.cuda.matmul.allow_tf32 = True\n",
    "torch.backends.cudnn.allow_tf32 = True"
   ]
  },
  {
   "cell_type": "code",
   "execution_count": 3,
   "metadata": {},
   "outputs": [],
   "source": [
    "# add yolov5 to path\n",
    "sys.path.append(os.path.join(os.getcwd(), 'yolov5'))\n",
    "import yolov5.models.common as common\n",
    "from yolov5.models.common import DetectMultiBackend"
   ]
  },
  {
   "cell_type": "code",
   "execution_count": 4,
   "metadata": {},
   "outputs": [
    {
     "name": "stderr",
     "output_type": "stream",
     "text": [
      "Fusing layers... \n",
      "YOLOv5s summary: 213 layers, 7225885 parameters, 0 gradients\n"
     ]
    }
   ],
   "source": [
    "yolov5s = DetectMultiBackend(weights='yolov5s.pt', device=torch.device('cuda:0'))"
   ]
  },
  {
   "cell_type": "code",
   "execution_count": 5,
   "metadata": {},
   "outputs": [],
   "source": [
    "PATH_TO_COCO = '/f_storage/datasets/coco/2017/val2017'\n",
    "PATH_TO_IMAGENET = '../../datasets/imagenet/2012/'\n",
    "NUM_IMG_EVAL = 10000\n",
    "prep = Preprocess(PATH_TO_IMAGENET, (640, 640), dataset_type='imagenet', shuffle=False, batch_size=1)\n",
    "preview_img_slice = slice(00000, 50000, 10000)"
   ]
  },
  {
   "cell_type": "code",
   "execution_count": 6,
   "metadata": {},
   "outputs": [],
   "source": [
    "prep.reset_trans()\n",
    "imgnet = prep.get_loader()\n",
    "img, label = next(iter(imgnet))"
   ]
  },
  {
   "cell_type": "code",
   "execution_count": 7,
   "metadata": {},
   "outputs": [],
   "source": [
    "yolov5s.eval()\n",
    "yolov5s.warmup()"
   ]
  },
  {
   "cell_type": "code",
   "execution_count": 9,
   "metadata": {},
   "outputs": [],
   "source": [
    "result = yolov5s(img.float().cuda())"
   ]
  },
  {
   "cell_type": "code",
   "execution_count": 13,
   "metadata": {},
   "outputs": [
    {
     "ename": "AttributeError",
     "evalue": "'list' object has no attribute 'pandas'",
     "output_type": "error",
     "traceback": [
      "\u001b[0;31m---------------------------------------------------------------------------\u001b[0m",
      "\u001b[0;31mAttributeError\u001b[0m                            Traceback (most recent call last)",
      "\u001b[1;32m/f_storage/ml/grad_poster/test_yolov5.ipynb Cell 9\u001b[0m in \u001b[0;36m2\n\u001b[1;32m      <a href='vscode-notebook-cell://ssh-remote%2Benterprise.jjsuperpower.org/f_storage/ml/grad_poster/test_yolov5.ipynb#X11sdnNjb2RlLXJlbW90ZQ%3D%3D?line=0'>1</a>\u001b[0m \u001b[39m# draw boxes\u001b[39;00m\n\u001b[0;32m----> <a href='vscode-notebook-cell://ssh-remote%2Benterprise.jjsuperpower.org/f_storage/ml/grad_poster/test_yolov5.ipynb#X11sdnNjb2RlLXJlbW90ZQ%3D%3D?line=1'>2</a>\u001b[0m \u001b[39mprint\u001b[39m(result\u001b[39m.\u001b[39;49mpandas()\u001b[39m.\u001b[39mxyxy[\u001b[39m0\u001b[39m])\n",
      "\u001b[0;31mAttributeError\u001b[0m: 'list' object has no attribute 'pandas'"
     ]
    }
   ],
   "source": [
    "# draw boxes\n",
    "print(result.pandas().xyxy[0])\n"
   ]
  }
 ],
 "metadata": {
  "kernelspec": {
   "display_name": "Python 3",
   "language": "python",
   "name": "python3"
  },
  "language_info": {
   "codemirror_mode": {
    "name": "ipython",
    "version": 3
   },
   "file_extension": ".py",
   "mimetype": "text/x-python",
   "name": "python",
   "nbconvert_exporter": "python",
   "pygments_lexer": "ipython3",
   "version": "3.10.6"
  },
  "orig_nbformat": 4
 },
 "nbformat": 4,
 "nbformat_minor": 2
}
