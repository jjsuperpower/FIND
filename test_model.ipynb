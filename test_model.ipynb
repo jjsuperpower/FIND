{
 "cells": [
  {
   "cell_type": "code",
   "execution_count": null,
   "metadata": {},
   "outputs": [],
   "source": [
    "import torch\n",
    "import torchvision\n",
    "from torchvision import transforms, datasets\n",
    "from torch.utils.data import DataLoader\n",
    "import torchvision.models as models\n",
    "from torchvision.models.resnet import ResNet50_Weights\n",
    "import lightning.pytorch as pl\n",
    "\n",
    "from models import Model_Wrapper, Preprocess\n",
    "from transforms import Luminance\n",
    "from utils import View, sample_imgs"
   ]
  },
  {
   "cell_type": "code",
   "execution_count": null,
   "metadata": {},
   "outputs": [],
   "source": [
    "PATH_TO_IMAGENET = '../../datasets/imagenet/2012/'\n",
    "NUM_IMG_EVAL = 10000"
   ]
  },
  {
   "cell_type": "code",
   "execution_count": null,
   "metadata": {},
   "outputs": [],
   "source": [
    "resnet50 = models.resnet50(weights=ResNet50_Weights.DEFAULT)\n",
    "resnet50 = Model_Wrapper(resnet50)\n",
    "trainer = pl.Trainer(accelerator=\"auto\", limit_test_batches=100)"
   ]
  },
  {
   "cell_type": "code",
   "execution_count": null,
   "metadata": {},
   "outputs": [],
   "source": [
    "# get transforms\n",
    "prep = Preprocess(PATH_TO_IMAGENET, (224, 224), shuffle=True)"
   ]
  },
  {
   "attachments": {},
   "cell_type": "markdown",
   "metadata": {},
   "source": [
    "##### Test On Orignal Dataset"
   ]
  },
  {
   "cell_type": "code",
   "execution_count": null,
   "metadata": {},
   "outputs": [],
   "source": [
    "prep.reset_trans()\n",
    "imgnet_orig = prep.get_loader()\n",
    "sample_orig = sample_imgs(imgnet_orig, slice(0,3))\n",
    "\n",
    "# test model on original images\n",
    "result_orig = trainer.test(resnet50, imgnet_orig)"
   ]
  },
  {
   "attachments": {},
   "cell_type": "markdown",
   "metadata": {},
   "source": [
    "##### Test Histogram Eq on Dark Images"
   ]
  },
  {
   "cell_type": "code",
   "execution_count": null,
   "metadata": {},
   "outputs": [],
   "source": [
    "prep.reset_trans()\n",
    "imgnet_dark = prep.luminance(1/8).get_loader()\n",
    "imgnet_dark_histeq = prep.hist_eq().get_loader()\n",
    "\n",
    "sample_dark = sample_imgs(imgnet_dark, slice(0,3))\n",
    "sample_dark_histeq = sample_imgs(imgnet_dark_histeq, slice(0,3))\n",
    "View.compare3_color(sample_dark, sample_dark_histeq, sample_orig)\n",
    "\n",
    "# test model on dark images and histeq\n",
    "result_dark = trainer.test(resnet50, imgnet_dark)\n",
    "result_dark_histeq = trainer.test(resnet50, imgnet_dark_histeq)"
   ]
  },
  {
   "attachments": {},
   "cell_type": "markdown",
   "metadata": {},
   "source": [
    "##### Test Histogram Eq on Bright Images"
   ]
  },
  {
   "cell_type": "code",
   "execution_count": null,
   "metadata": {},
   "outputs": [],
   "source": [
    "\n",
    "imgnet_bright = prep.luminance(2).get_loader()\n",
    "imgnet_bright_histeq = prep.hist_eq().get_loader()\n",
    "prep.reset_trans()\n",
    "\n",
    "sample_bright = sample_imgs(imgnet_bright, slice(0,3))\n",
    "sample_bright_histeq = sample_imgs(imgnet_bright_histeq, slice(0,3))\n",
    "View.compare3_color(sample_bright, sample_bright_histeq, sample_orig)\n",
    "\n",
    "# test model on bright images and histeq\n",
    "result_bright = trainer.test(resnet50, imgnet_bright)\n",
    "result_bright_histeq = trainer.test(resnet50, imgnet_bright_histeq)"
   ]
  }
 ],
 "metadata": {
  "kernelspec": {
   "display_name": "Python 3",
   "language": "python",
   "name": "python3"
  },
  "language_info": {
   "codemirror_mode": {
    "name": "ipython",
    "version": 3
   },
   "file_extension": ".py",
   "mimetype": "text/x-python",
   "name": "python",
   "nbconvert_exporter": "python",
   "pygments_lexer": "ipython3",
   "version": "3.10.6"
  },
  "orig_nbformat": 4
 },
 "nbformat": 4,
 "nbformat_minor": 2
}
